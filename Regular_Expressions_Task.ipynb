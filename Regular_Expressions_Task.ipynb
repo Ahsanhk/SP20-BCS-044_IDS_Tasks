{
  "nbformat": 4,
  "nbformat_minor": 0,
  "metadata": {
    "colab": {
      "provenance": [],
      "collapsed_sections": []
    },
    "kernelspec": {
      "name": "python3",
      "display_name": "Python 3"
    },
    "language_info": {
      "name": "python"
    }
  },
  "cells": [
    {
      "cell_type": "code",
      "execution_count": null,
      "metadata": {
        "colab": {
          "base_uri": "https://localhost:8080/"
        },
        "id": "QUc3uLc_aXBO",
        "outputId": "688b188d-0c5f-4e0c-ef57-5a04284796cb"
      },
      "outputs": [
        {
          "output_type": "stream",
          "name": "stdout",
          "text": [
            "<re.Match object; span=(16, 25), match='cscIDS001'>\n"
          ]
        }
      ],
      "source": [
        "#Problem-1\n",
        "import re\n",
        "\n",
        "text = 'This subject is cscIDS001'\n",
        "result = re.search(r'(csc)(\\w*)001$', text)\n",
        "\n",
        "print(result)"
      ]
    },
    {
      "cell_type": "code",
      "source": [
        "#Problem - 2\n",
        "import re\n",
        "\n",
        "text = 'testFile.py'\n",
        "result = re.search(r'(\\w+)[.](py)', text)\n",
        "\n",
        "if(result):\n",
        "    print(result)\n",
        "    filename, extension = text.split('.')\n",
        "    print('Filename:', filename)\n",
        "    print('Extension:', extension)\n",
        "\n",
        "else:\n",
        "    print('incorrent file syntax')"
      ],
      "metadata": {
        "colab": {
          "base_uri": "https://localhost:8080/"
        },
        "id": "NcYU9S_uag45",
        "outputId": "1ad9f626-3993-4e49-f932-95733204d64b"
      },
      "execution_count": null,
      "outputs": [
        {
          "output_type": "stream",
          "name": "stdout",
          "text": [
            "<re.Match object; span=(0, 11), match='testFile.py'>\n",
            "Filename: testFile\n",
            "Extension: py\n"
          ]
        }
      ]
    },
    {
      "cell_type": "code",
      "source": [
        "#Problem - 3\n",
        "import re\n",
        "\n",
        "text = '“This contains two files, text1.py and text2.py'\n",
        "result = re.findall(r'(\\w+)[.](py)', text)\n",
        "\n",
        "if(result):\n",
        "    filenames = []\n",
        "    print('legal filename(s) found: ')\n",
        "    for i in range(len(result)):\n",
        "        filenames.append(result[i][0] + '.' + result[i][1])\n",
        "    print(filenames)\n",
        "\n",
        "else:\n",
        "    print('No legal file found!')"
      ],
      "metadata": {
        "id": "A4N0KQZyan3q",
        "colab": {
          "base_uri": "https://localhost:8080/"
        },
        "outputId": "4720166a-a0df-4071-ed63-1205ef044743"
      },
      "execution_count": 6,
      "outputs": [
        {
          "output_type": "stream",
          "name": "stdout",
          "text": [
            "following legal filename(s) were found: \n",
            "['text1.py', 'text2.py']\n"
          ]
        }
      ]
    },
    {
      "cell_type": "code",
      "source": [
        "#Problem - 4\n",
        "import re\n",
        "\n",
        "text = 'we have file1.docx, file2.doc, file3.doc, and file4.docx'\n",
        "result = re.findall(r'(\\w+)[.](doc|docx)', text)\n",
        "\n",
        "if(result):\n",
        "    filenames = []\n",
        "    for i in range(len(result)):\n",
        "        filenames.append(result[i][0])\n",
        "    print(filenames)\n",
        "else:\n",
        "    print('no legal microsoft word filename found')"
      ],
      "metadata": {
        "id": "6rCHamm7aoKw",
        "colab": {
          "base_uri": "https://localhost:8080/"
        },
        "outputId": "abeebce5-4041-4d58-ab3f-941be57d305e"
      },
      "execution_count": 5,
      "outputs": [
        {
          "output_type": "stream",
          "name": "stdout",
          "text": [
            "['file1', 'file2', 'file3', 'file4']\n"
          ]
        }
      ]
    },
    {
      "cell_type": "code",
      "source": [
        "#Problem - 5\n",
        "import re\n",
        "\n",
        "text = 'Please edit the following two MS Word documents (bscs.doc) and (bsse.docx), and share with us'\n",
        "result = re.search(r'(\\w+)[.](doc|docx)', text)\n",
        "\n",
        "print('first occurence of filename at position: ',result.start())"
      ],
      "metadata": {
        "id": "RlLgTn8jaqxM",
        "colab": {
          "base_uri": "https://localhost:8080/"
        },
        "outputId": "843ce17b-f854-4386-bece-fd31b61f4f31"
      },
      "execution_count": 4,
      "outputs": [
        {
          "output_type": "stream",
          "name": "stdout",
          "text": [
            "first occurence of filename at position:  49\n"
          ]
        }
      ]
    }
  ]
}